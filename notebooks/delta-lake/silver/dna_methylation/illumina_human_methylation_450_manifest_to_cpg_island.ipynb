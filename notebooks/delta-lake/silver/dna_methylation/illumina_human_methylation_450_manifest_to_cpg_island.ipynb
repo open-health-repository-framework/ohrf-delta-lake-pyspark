{
 "cells": [
  {
   "cell_type": "code",
   "execution_count": null,
   "metadata": {},
   "outputs": [],
   "source": [
    "import os\n",
    "from pyspark.conf import SparkConf\n",
    "from pyspark.sql import SparkSession\n",
    "from pyspark.sql.functions import lit, current_timestamp, col, when, split, explode, array_distinct\n",
    "from delta import *\n",
    "import re\n",
    "\n",
    "import findspark\n",
    "\n",
    "findspark.init()\n",
    "\n",
    "warehouse_diretory_path = '[YOUR_WAREHOUSE]'\n",
    "\n",
    "conf = SparkConf()\n",
    "conf.setAll(\n",
    "    [\n",
    "        ('spark.master', 'local[*]'), \n",
    "        ('spark.driver.host', 'localhost'),\n",
    "        ('spark.app.name', 'Transform Illumina Human Methylation 450 Manifest To CPG Island'),\n",
    "        ('spark.ui.showConsoleProgress', 'true'),\n",
    "        ('spark.sql.execution.arrow.pyspark.enabled', 'false'),                   \n",
    "        ('spark.sql.execution.arrow.pyspark.fallback.enabled', 'true'),\n",
    "        ('spark.dynamicAllocation.enabled', 'false'),\n",
    "        ('spark.sql.caseSensitive', 'true'),\n",
    "        ('spark.sql.adaptive.enabled', 'true'),\n",
    "        ('spark.sql.extensions','io.delta.sql.DeltaSparkSessionExtension'),\n",
    "        ('spark.sql.catalog.spark_catalog', 'org.apache.spark.sql.delta.catalog.DeltaCatalog'),\n",
    "        ('spark.sql.warehouse.dir', warehouse_diretory_path),\n",
    "        ('spark.driver.extraJavaOptions', f'-Dderby.system.home={warehouse_diretory_path}')\n",
    "    ])\n",
    "\n",
    "spark = SparkSession.builder.config(conf=conf).enableHiveSupport().getOrCreate()"
   ]
  },
  {
   "cell_type": "code",
   "execution_count": null,
   "metadata": {},
   "outputs": [],
   "source": [
    "biological_database_name = 'biological_database'\n",
    "\n",
    "bronze_human_methylation_manifest_table_name = 'bronze_illumina_human_methylation_450_Manifest'\n",
    "\n",
    "silver_cpg_island_table_name = 'silver_cpg_island'\n",
    "silver_cpg_island_view_name = 'silver_cpg_island_view'\n",
    "\n",
    "origin_data = 'Illumina Infinium HumanMethylation450'"
   ]
  },
  {
   "cell_type": "code",
   "execution_count": null,
   "metadata": {},
   "outputs": [],
   "source": [
    "spark.sql(f'CREATE DATABASE IF NOT EXISTS {biological_database_name};')\n",
    "spark.sql(f'USE {biological_database_name};')"
   ]
  },
  {
   "cell_type": "code",
   "execution_count": null,
   "metadata": {},
   "outputs": [],
   "source": [
    "silver_cpg_island_df = spark.sql(f\"\"\"SELECT * FROM {bronze_human_methylation_manifest_table_name}\"\"\")"
   ]
  },
  {
   "cell_type": "code",
   "execution_count": null,
   "metadata": {},
   "outputs": [],
   "source": [
    "ilumina_id_name = list(filter(lambda c: 'IlmnID' not in c, silver_cpg_island_df.columns))[0]\n",
    "cpg_island_columns = silver_cpg_island_df.where(f\"{ilumina_id_name} = 'IlmnID'\").first().asDict()"
   ]
  },
  {
   "cell_type": "code",
   "execution_count": null,
   "metadata": {},
   "outputs": [],
   "source": [
    "silver_cpg_island_df = silver_cpg_island_df.filter(col(ilumina_id_name).contains('cg')) \\\n",
    "    .selectExpr(*[f'{column} AS {cpg_column}' for column, cpg_column in cpg_island_columns.items()]) \\\n",
    "    .selectExpr('IlmnID AS probe_id', 'UCSC_RefGene_Name AS gene_symbol', 'Relation_to_UCSC_CpG_Island AS region') \\\n",
    "    .na.fill('') \\\n",
    "    .withColumn('gene_symbol', array_distinct(split(col('gene_symbol'), ';'))) \\\n",
    "    .withColumn('gene_symbol', explode('gene_symbol').alias('gene_symbol')) \\\n",
    "    .withColumn('origin', lit(origin_data)) \\\n",
    "    .withColumn('timestamp', current_timestamp())"
   ]
  },
  {
   "cell_type": "code",
   "execution_count": null,
   "metadata": {},
   "outputs": [],
   "source": [
    "if not [t.name for t in spark.catalog.listTables(biological_database_name) if t.name == silver_cpg_island_table_name] or \\\n",
    "   (any([t.name for t in spark.catalog.listTables(biological_database_name) if t.name == silver_cpg_island_table_name]) and\n",
    "    spark.sql(f\"SELECT origin FROM {silver_cpg_island_table_name};\").count() == 0):  \n",
    "\n",
    "    silver_cpg_island_df.write \\\n",
    "        .format('delta') \\\n",
    "        .mode('overwrite') \\\n",
    "        .option('overwriteSchema', 'true') \\\n",
    "        .option('partitionOverwriteMode', 'dynamic') \\\n",
    "        .partitionBy('origin') \\\n",
    "        .saveAsTable(silver_cpg_island_table_name)\n",
    "else:    \n",
    "    silver_cpg_island_df.createOrReplaceTempView(silver_cpg_island_view_name)\n",
    "    \n",
    "    spark.sql(f\"\"\"MERGE INTO {silver_cpg_island_table_name} AS target\n",
    "                  USING {silver_cpg_island_view_name} AS source\n",
    "                  ON source.origin = target.origin\n",
    "                     AND source.probe_id = target.probe_id \n",
    "                     AND source.gene_symbol = target.gene_symbol                    \n",
    "                  WHEN MATCHED THEN \n",
    "                    UPDATE SET *\n",
    "                  WHEN NOT MATCHED THEN INSERT * \"\"\")\n",
    "\n",
    "    spark.sql(f\"\"\"MERGE INTO {silver_cpg_island_table_name} AS target\n",
    "                  USING (SELECT \n",
    "                           origin,\n",
    "                           probe_id,\n",
    "                           gene_symbol,\n",
    "                           region,\n",
    "                           timestamp\n",
    "                         FROM (SELECT \n",
    "                                 target.origin, \n",
    "                                 target.probe_id,\n",
    "                                 target.gene_symbol,\n",
    "                                 target.region,\n",
    "                                 target.timestamp,\n",
    "                                 source.origin AS source_origin\n",
    "                               FROM {silver_cpg_island_table_name} AS target\n",
    "                               LEFT JOIN {silver_cpg_island_view_name} AS source\n",
    "                                 ON target.origin = source.origin\n",
    "                                    AND target.probe_id = source.probe_id\n",
    "                                    AND target.gene_symbol = source.gene_symbol\n",
    "                                    AND target.region = source.region)\n",
    "                         WHERE ISNULL(source_origin)) AS source\n",
    "                  ON source.origin = target.origin\n",
    "                     AND source.probe_id = target.probe_id\n",
    "                     AND source.gene_symbol = target.gene_symbol\n",
    "                     AND source.region = target.region\n",
    "                  WHEN MATCHED THEN                    \n",
    "                    DELETE \"\"\")\n",
    "                     \n",
    "    spark.catalog.dropTempView(silver_cpg_island_view_name)"
   ]
  }
 ],
 "metadata": {
  "language_info": {
   "name": "python"
  }
 },
 "nbformat": 4,
 "nbformat_minor": 2
}
