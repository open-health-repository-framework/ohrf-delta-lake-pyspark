{
 "cells": [
  {
   "cell_type": "code",
   "execution_count": null,
   "metadata": {},
   "outputs": [],
   "source": [
    "import os\n",
    "from pyspark.conf import SparkConf\n",
    "from pyspark.sql import SparkSession\n",
    "from pyspark.sql.functions import collect_list, col\n",
    "from pyspark.sql.types import StructType, StructField, StringType\n",
    "from delta import *\n",
    "\n",
    "warehouse_diretory_path = '[YOUR_WAREHOUSE]'\n",
    "biological_database_name = 'biological_database'\n",
    "\n",
    "silver_homo_sapiens_gene_annotation_table_name = 'silver_homo_sapiens_gene_annotation'\n",
    "\n",
    "bronze_ensembl_gene_entrez_annotation_table_name = 'bronze_ensembl_gene_entrez_annotation'\n",
    "bronze_bronze_ensembl_gene_uniprot_annotation_table_name = 'bronze_ensembl_gene_uniprot_annotation'\n",
    "\n",
    "bronze_hgnc_gene_annotation_table_name = 'bronze_hgnc_gene_annotation'\n",
    "\n",
    "bronze_uniprotkb_reviewed_protein_annotation_table_name = 'bronze_uniprotkb_reviewed_protein_annotation'\n",
    "\n",
    "bronze_ncbi_gene_go_table_name = 'bronze_ncbi_gene_go'\n",
    "bronze_ncbi_gene_annotation_table_name = 'bronze_ncbi_gene_annotation'\n",
    "\n",
    "bronze_mirtarbase_mirna_target_gene_interaction_table_name = 'bronze_mirtarbase_mirna_target_gene_interaction'\n",
    "\n",
    "ncbi_homo_sapiens_taxonomy = 9606\n",
    "\n",
    "conf = SparkConf()\n",
    "conf.setAll(\n",
    "    [\n",
    "        ('spark.master', 'local[*]'), \n",
    "        ('spark.driver.host', 'localhost'),\n",
    "        ('spark.app.name', 'Gene Annotation Importer'),\n",
    "        ('spark.ui.showConsoleProgress', 'true'),\n",
    "        ('spark.sql.execution.arrow.pyspark.enabled', 'true'),         \n",
    "        ('spark.sql.extensions','io.delta.sql.DeltaSparkSessionExtension'),\n",
    "        ('spark.sql.catalog.spark_catalog', 'org.apache.spark.sql.delta.catalog.DeltaCatalog'),\n",
    "        ('spark.sql.warehouse.dir', warehouse_diretory_path),\n",
    "        ('spark.driver.extraJavaOptions', f'-Dderby.system.home={warehouse_diretory_path}')\n",
    "    ])\n",
    "\n",
    "spark = SparkSession.builder.config(conf=conf).enableHiveSupport().getOrCreate()"
   ]
  },
  {
   "cell_type": "code",
   "execution_count": null,
   "metadata": {},
   "outputs": [],
   "source": [
    "spark.sql(f'USE {biological_database_name};')\n"
   ]
  },
  {
   "cell_type": "code",
   "execution_count": null,
   "metadata": {},
   "outputs": [],
   "source": [
    "bronze_mirtarbase_mirna_target_gene_interaction_df = spark.sql(f\"\"\"SELECT \n",
    "                                                                       Target_Gene_Entrez_Gene_ID AS entrez_id, \n",
    "                                                                       miRTarBase_ID AS mirtarbase_id, \n",
    "                                                                       miRNA AS mirna_id\n",
    "                                                                   FROM {bronze_mirtarbase_mirna_target_gene_interaction_table_name}\"\"\") \\\n",
    "                                                          .dropDuplicates(['entrez_id', 'mirtarbase_id', 'mirna_id']) \\\n",
    "                                                          .selectExpr('entrez_id', \n",
    "                                                                      \"\"\"named_struct(                                                 \n",
    "                                                                             'mirtarbase_id', mirtarbase_id,\n",
    "                                                                             'mirna_id', mirna_id\n",
    "                                                                         ) AS mirna_interaction\"\"\") \\\n",
    "                                                          .groupBy('entrez_id') \\\n",
    "                                                          .agg(collect_list('mirna_interaction').alias('mirna_interactions'))\n",
    "                                                          "
   ]
  },
  {
   "cell_type": "code",
   "execution_count": null,
   "metadata": {},
   "outputs": [],
   "source": [
    "bronze_ncbi_gene_annotation_df = spark.sql(f\"\"\"SELECT regexp_extract(dbXrefs, '(HGNC:[0-9]+)', 1) AS hgnc_id, GeneID as entrez_id \n",
    "                                               FROM {bronze_ncbi_gene_annotation_table_name} AS g\n",
    "                                               WHERE `#tax_id` == {ncbi_homo_sapiens_taxonomy} AND \n",
    "                                                     dbXrefs like '%HGNC:HGNC%'\"\"\")\n",
    "\n",
    "bronze_ncbi_gene_go_df = spark.sql(f\"\"\"SELECT GeneID AS entrez_id, GO_ID AS id, Category AS category,                                       \n",
    "                                              collect_list(\n",
    "                                                      named_struct(                                                 \n",
    "                                                            'term', GO_term,\n",
    "                                                            'qualifier', Qualifier,\n",
    "                                                            'evidence', Evidence,\n",
    "                                                            'pubmed_id', array_remove(split(replace(PubMed, '-', ''), '[|]'), '')\n",
    "                                                      )\n",
    "                                              ) AS terms\n",
    "                                       FROM {bronze_ncbi_gene_go_table_name} \n",
    "                                       WHERE `#tax_id` == {ncbi_homo_sapiens_taxonomy}\n",
    "                                       GROUP BY GeneID, Category, GO_ID\"\"\") \\\n",
    "                              .selectExpr('entrez_id', \n",
    "                                          \"\"\"named_struct(                                                 \n",
    "                                                'id', id,\n",
    "                                                'category', category,\n",
    "                                                'terms', terms\n",
    "                                          ) AS go\"\"\") \\\n",
    "                              .groupBy('entrez_id') \\\n",
    "                              .agg(collect_list(col('go')).alias('go'))\n",
    "\n",
    "bronze_ncbi_gene_annotation_df = bronze_ncbi_gene_annotation_df.alias('ncbi_annotation') \\\n",
    "                                                               .join(bronze_ncbi_gene_go_df.alias('ncbi_go'),\n",
    "                                                                     bronze_ncbi_gene_go_df.entrez_id == bronze_ncbi_gene_annotation_df.entrez_id,\n",
    "                                                                     'left') \\\n",
    "                                                               .select('ncbi_annotation.hgnc_id', 'ncbi_annotation.entrez_id', 'ncbi_go.go') \\\n",
    "                                                               .join(bronze_mirtarbase_mirna_target_gene_interaction_df.alias('mirna'), ['entrez_id'], 'left') "
   ]
  },
  {
   "cell_type": "code",
   "execution_count": null,
   "metadata": {},
   "outputs": [],
   "source": [
    "bronze_hgnc_gene_df = spark.sql(f\"\"\"SELECT symbol, alias_symbol AS symbol_synonyms, prev_symbol AS previous_symbol, name, \n",
    "                                    alias_name AS name_synonyms, prev_name AS previous_name, gene_group_id AS family_id, \n",
    "                                    gene_group AS family, location, location_sortable, hgnc_id, vega_id, ucsc_id, ena AS ena_id, \n",
    "                                    refseq_accession AS refseq_id, ccds_id, lsdb AS lsm_db_id, cosmic AS cosmic_id, mgd_id, rgd_id,\n",
    "                                    orphanet AS orphanet_id, pubmed_id, `pseudogene.org` AS pseudogene_id, horde_id, cd AS hcdm_id,\n",
    "                                    imgt AS imgt_symbol, merops AS merops_id, iuphar AS iuphar_id, mirbase AS mirbase_id, omim_id,\n",
    "                                    kznf_gene_catalog AS kznf_gene_catalog_id, `mamit-trnadb` AS mamit_trna_db_id, homeodb AS homeo_db_id, \n",
    "                                    snornabase AS snornabase_id, bioparadigms_slc AS bioparadigms_slc_id, lncrnadb AS lncrna_db_id, \n",
    "                                    enzyme_id AS enzyme_ec_accession_number, intermediate_filament_db AS intermediate_filament_db_id \n",
    "                                    FROM {bronze_hgnc_gene_annotation_table_name}\"\"\")"
   ]
  },
  {
   "cell_type": "code",
   "execution_count": null,
   "metadata": {},
   "outputs": [],
   "source": [
    "bronze_uniprotkb_reviewed_protein_annotation_df = spark.sql(f\"\"\"SELECT \n",
    "                                                                    accession,\n",
    "                                                                    explode(gene.name) AS gene\n",
    "                                                                FROM {bronze_uniprotkb_reviewed_protein_annotation_table_name}\n",
    "                                                                WHERE organism.dbReference._id = {ncbi_homo_sapiens_taxonomy}\"\"\") \\\n",
    "                                                        .selectExpr('explode(accession) AS uniprotkb_ids', 'gene') \\\n",
    "                                                        .selectExpr('uniprotkb_ids', 'explode(gene) AS gene') \\\n",
    "                                                        .selectExpr('uniprotkb_ids', 'gene._VALUE AS gene_symbol', 'gene._type AS type') \\\n",
    "                                                        .filter(\"type == 'primary'\") \\\n",
    "                                                        .groupBy('gene_symbol') \\\n",
    "                                                        .agg(collect_list(col('uniprotkb_ids')).alias('uniprotkb_ids'))"
   ]
  },
  {
   "cell_type": "code",
   "execution_count": null,
   "metadata": {},
   "outputs": [],
   "source": [
    "silver_homo_sapiens_gene_annotation_df = bronze_hgnc_gene_df.alias('hgnb') \\\n",
    "                                               .join(bronze_ncbi_gene_annotation_df.alias('ncbi'), ['hgnc_id'], 'left') \\\n",
    "                                               .join(bronze_uniprotkb_reviewed_protein_annotation_df.alias('uniprot'), \n",
    "                                                     bronze_hgnc_gene_df.symbol == bronze_uniprotkb_reviewed_protein_annotation_df.gene_symbol, \n",
    "                                                     'left') \\\n",
    "                                               .drop(bronze_uniprotkb_reviewed_protein_annotation_df.gene_symbol)"
   ]
  },
  {
   "cell_type": "code",
   "execution_count": null,
   "metadata": {},
   "outputs": [],
   "source": [
    "silver_homo_sapiens_gene_annotation_df.write \\\n",
    "    .format('delta') \\\n",
    "    .mode('overwrite') \\\n",
    "    .option('overwriteSchema', 'true') \\\n",
    "    .option('partitionOverwriteMode', 'dynamic') \\\n",
    "    .saveAsTable(silver_homo_sapiens_gene_annotation_table_name)"
   ]
  },
  {
   "cell_type": "code",
   "execution_count": null,
   "metadata": {},
   "outputs": [],
   "source": [
    "spark.stop()"
   ]
  }
 ],
 "metadata": {
  "language_info": {
   "name": "python"
  }
 },
 "nbformat": 4,
 "nbformat_minor": 2
}
