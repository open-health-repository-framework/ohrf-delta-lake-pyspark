{
 "cells": [
  {
   "cell_type": "code",
   "execution_count": null,
   "metadata": {},
   "outputs": [],
   "source": [
    "import os\n",
    "from pyspark.conf import SparkConf\n",
    "from pyspark.sql import SparkSession\n",
    "from pyspark.sql.functions import create_map, lit, col, explode, collect_list, array, struct, when, current_timestamp, log2\n",
    "from pyspark.sql.types import IntegerType, FloatType\n",
    "from delta import *\n",
    "import re\n",
    "\n",
    "warehouse_diretory_path = '[YOUR_WAREHOUSE]'\n",
    "\n",
    "conf = SparkConf()\n",
    "conf.setAll(\n",
    "    [\n",
    "        ('spark.master', 'local[*]'), \n",
    "        ('spark.driver.host', 'localhost'),\n",
    "        ('spark.app.name', 'Transform TCGA Firebrowse DNA Methylation Illumina Human Methylation 450 Level 3 Sample To DNA Methylation Patient Sample'),\n",
    "        ('spark.ui.showConsoleProgress', 'true'),\n",
    "        ('spark.sql.execution.arrow.pyspark.enabled', 'true'),        \n",
    "        ('spark.driver.memory', '60g'),\n",
    "        ('spark.executor.memory', '40g'),        \n",
    "        ('spark.sql.extensions','io.delta.sql.DeltaSparkSessionExtension'),\n",
    "        ('spark.sql.catalog.spark_catalog', 'org.apache.spark.sql.delta.catalog.DeltaCatalog'),\n",
    "        ('spark.sql.warehouse.dir', warehouse_diretory_path),\n",
    "        ('spark.driver.extraJavaOptions', f'-Dderby.system.home={warehouse_diretory_path}')\n",
    "    ])\n",
    "\n",
    "spark = SparkSession.builder.config(conf=conf).enableHiveSupport().getOrCreate()"
   ]
  },
  {
   "cell_type": "code",
   "execution_count": null,
   "metadata": {},
   "outputs": [],
   "source": [
    "patient_id_pattern = re.compile(r'(.{12})', re.IGNORECASE)\n",
    "tcga_barcode_pattern = re.compile(r'(.{15})', re.IGNORECASE)\n",
    "\n",
    "condition_pattern = re.compile(r'.{13}(.{2}).*', re.IGNORECASE)\n",
    "condition_group_index = 1\n",
    "\n",
    "biological_database_name = 'biological_database'\n",
    "\n",
    "disease = 'Breast Invasive Carcinoma'\n",
    "\n",
    "bronze_tcga_dna_methylation_sample_table_name = 'bronze_tcga_firebrowse_dna_methylation_illumina_human_methylation_450_level3_sample'\n",
    "\n",
    "silver_cpg_island_table_name = 'silver_cpg_island'\n",
    "\n",
    "silver_patient_dna_methylation_sample_table_name = 'silver_patient_dna_methylation_sample'\n",
    "silver_patient_dna_methylation_sample_view_name = 'silver_patient_dna_methylation_sample_view'\n",
    "\n",
    "origin_data = 'Illumina Infinium HumanMethylation450'\n",
    "\n",
    "tcga_sample_type_codes = {\n",
    "                            '01': 'Primary Solid Tumor', \n",
    "                            '02': 'Recurrent Solid Tumor',\n",
    "                            '03': 'Primary Blood Derived Cancer - Peripheral Blood',\n",
    "                            '04': 'Recurrent Blood Derived Cancer - Bone Marrow',\n",
    "                            '05': 'Additional - New Primary',\n",
    "                            '06': 'Metastatic', \n",
    "                            '07': 'Primary Blood Derived Cancer - Bone Marrow',\n",
    "                            '08': 'Human Tumor Original Cells',\n",
    "                            '09': 'Primary Blood Derived Cancer',\n",
    "                            '10': 'Blood Derived Normal', \n",
    "                            '11': 'Solid Tissue Normal',\n",
    "                            '12': 'Buccal Cell Normal',\n",
    "                            '13': 'EBV Immortalized Normal',\n",
    "                            '14': 'Bone Marrow Normal',\n",
    "                            '15': 'sample type',\n",
    "                            '16': 'sample type'\n",
    "                        }\n",
    "\n",
    "tcga_sample_type_control_codes = ['10', '11', '12', '13', '14', '15', '16']\n",
    "tcga_sample_type_case_codes = ['01', '02', '03', '04', '05', '06', '07', '08', '09']\n",
    "\n",
    "sample_types = create_map([lit(description) for code in tcga_sample_type_codes.items() for description in code])"
   ]
  },
  {
   "cell_type": "code",
   "execution_count": null,
   "metadata": {},
   "outputs": [],
   "source": [
    "spark.sql(f'CREATE DATABASE IF NOT EXISTS {biological_database_name};')\n",
    "spark.sql(f'USE {biological_database_name};')"
   ]
  },
  {
   "cell_type": "code",
   "execution_count": null,
   "metadata": {},
   "outputs": [],
   "source": [
    "silver_dna_methylation_sample_df = spark.sql(f\"\"\"SELECT * FROM {bronze_tcga_dna_methylation_sample_table_name} WHERE disease = '{disease}'\"\"\")\n",
    "silver_dna_methylation_sample_df = silver_dna_methylation_sample_df.drop('disease', 'timestamp')"
   ]
  },
  {
   "cell_type": "code",
   "execution_count": null,
   "metadata": {},
   "outputs": [],
   "source": [
    "probe_id_name = list(filter(lambda c: 'TCGA' not in c, silver_dna_methylation_sample_df.columns))[0]\n",
    "dna_methylation_sample_columns = silver_dna_methylation_sample_df.where(f\"{probe_id_name} = 'Composite Element REF'\").first().asDict()"
   ]
  },
  {
   "cell_type": "code",
   "execution_count": null,
   "metadata": {},
   "outputs": [],
   "source": [
    "column_name = list(dna_methylation_sample_columns.keys())[0]\n",
    "column_value = dna_methylation_sample_columns[column_name]\n",
    "\n",
    "silver_dna_methylation_sample_df = silver_dna_methylation_sample_df.filter(~col(column_name).contains(column_value))"
   ]
  },
  {
   "cell_type": "code",
   "execution_count": null,
   "metadata": {},
   "outputs": [],
   "source": [
    "patient_ids = list(dna_methylation_sample_columns.keys())[1:]\n",
    "\n",
    "columns = list(set(map(lambda x: tcga_barcode_pattern.search(x).group(), list(dna_methylation_sample_columns.keys())[1:])))\n",
    "columns = [list(filter(lambda x: x.startswith(c), patient_ids)) for c in columns]"
   ]
  },
  {
   "cell_type": "code",
   "execution_count": null,
   "metadata": {},
   "outputs": [],
   "source": [
    "silver_dna_methylation_sample_df = silver_dna_methylation_sample_df.select(array([struct(col(probe_id_name).alias('probe_id'),\n",
    "                                                                                         lit(patient_id_pattern.search(c[0]).group()).alias('patient_id'),\n",
    "                                                                                         lit(condition_pattern.search(c[0]).group(condition_group_index)).alias('condition'),\n",
    "                                                                                         col(c[0]).alias(dna_methylation_sample_columns[c[0]]),\n",
    "                                                                                         col(c[1]).alias(dna_methylation_sample_columns[c[1]]),\n",
    "                                                                                         col(c[2]).alias(dna_methylation_sample_columns[c[2]]),\n",
    "                                                                                         col(c[3]).alias(dna_methylation_sample_columns[c[3]])) for c in columns]).alias('methylation_levels')) \\\n",
    "                                              .select(explode('methylation_levels').alias('methylation_levels')) \\\n",
    "                                              .select('methylation_levels.*') \\\n",
    "                                              .selectExpr('patient_id', 'condition', 'probe_id', 'Gene_Symbol AS gene_symbol', 'CAST(Beta_value AS double) beta_value') \\\n",
    "                                              .withColumn('m_value', log2(col('beta_value')/(1 - col('beta_value')))) \\\n",
    "                                              .where(col('probe_id').contains('cg'))\n",
    "                                              "
   ]
  },
  {
   "cell_type": "code",
   "execution_count": null,
   "metadata": {},
   "outputs": [],
   "source": [
    "silver_cpg_island_df = spark.sql(f\"\"\"SELECT probe_id, region FROM {silver_cpg_island_table_name} WHERE origin = '{origin_data}'\"\"\")"
   ]
  },
  {
   "cell_type": "code",
   "execution_count": null,
   "metadata": {},
   "outputs": [],
   "source": [
    "silver_dna_methylation_sample_df = silver_dna_methylation_sample_df.alias('sample')\\\n",
    "    .join(silver_cpg_island_df.alias('cpg_island'),\n",
    "          silver_dna_methylation_sample_df.probe_id ==  silver_cpg_island_df.probe_id,\n",
    "          'left')"
   ]
  },
  {
   "cell_type": "code",
   "execution_count": null,
   "metadata": {},
   "outputs": [],
   "source": [
    "silver_dna_methylation_sample_df = silver_dna_methylation_sample_df \\\n",
    "                                              .selectExpr('sample.patient_id', \n",
    "                                                          'sample.condition',                                                           \n",
    "                                                          '''struct(sample.probe_id, \n",
    "                                                                    cpg_island.region, \n",
    "                                                                    sample.gene_symbol, \n",
    "                                                                    sample.beta_value,\n",
    "                                                                    sample.m_value) AS methylation_levels''') \\\n",
    "                                              .groupBy('sample.patient_id', 'sample.condition') \\\n",
    "                                              .agg(collect_list(col('methylation_levels')).alias('methylation_levels')) \\\n",
    "                                              .withColumn('sample_type', sample_types[col('condition')]) \\\n",
    "                                              .withColumn('condition', when(col('condition').isin(tcga_sample_type_control_codes), 'control')\n",
    "                                                                        .when(col('condition').isin(tcga_sample_type_case_codes), 'case')\n",
    "                                                                        .otherwise('')) \\\n",
    "                                              .withColumn('disease', lit(disease)) \\\n",
    "                                              .withColumn('origin', lit(origin_data)) \\\n",
    "                                              .withColumn('timestamp', current_timestamp())"
   ]
  },
  {
   "cell_type": "code",
   "execution_count": null,
   "metadata": {},
   "outputs": [],
   "source": [
    "if not [t.name for t in spark.catalog.listTables(biological_database_name) if t.name == silver_patient_dna_methylation_sample_table_name] or \\\n",
    "   (any([t.name for t in spark.catalog.listTables(biological_database_name) if t.name == silver_patient_dna_methylation_sample_table_name]) and\n",
    "    spark.sql(f\"SELECT disease FROM {silver_patient_dna_methylation_sample_table_name} WHERE disease = '{disease}';\").count() == 0):  \n",
    "\n",
    "    silver_dna_methylation_sample_df.write \\\n",
    "        .format('delta') \\\n",
    "        .mode('overwrite') \\\n",
    "        .option('overwriteSchema', 'true') \\\n",
    "        .option('partitionOverwriteMode', 'dynamic') \\\n",
    "        .partitionBy('disease', 'origin', 'condition', 'sample_type') \\\n",
    "        .saveAsTable(silver_patient_dna_methylation_sample_table_name)\n",
    "else:    \n",
    "    silver_dna_methylation_sample_df.createOrReplaceTempView(silver_patient_dna_methylation_sample_view_name)\n",
    "    \n",
    "    spark.sql(f\"\"\"MERGE INTO {silver_patient_dna_methylation_sample_table_name} AS target\n",
    "                  USING {silver_patient_dna_methylation_sample_view_name} AS source\n",
    "                  ON source.disease = target.disease\n",
    "                     AND source.patient_id = target.patient_id\n",
    "                     AND source.condition = target.condition\n",
    "                     AND source.origin = target.origin\n",
    "                     AND source.sample_type = target.sample_type               \n",
    "                  WHEN MATCHED THEN \n",
    "                    UPDATE SET *\n",
    "                  WHEN NOT MATCHED THEN INSERT * \"\"\")\n",
    "\n",
    "    spark.sql(f\"\"\"MERGE INTO {silver_patient_dna_methylation_sample_table_name} AS target\n",
    "                  USING (SELECT \n",
    "                           disease,\n",
    "                           patient_id,\n",
    "                           origin,\n",
    "                           condition,\n",
    "                           sample_type\n",
    "                         FROM (SELECT \n",
    "                                 target.disease, \n",
    "                                 target.patient_id,\n",
    "                                 target.origin, \n",
    "                                 target.condition,\n",
    "                                 target.sample_type,                               \n",
    "                                 source.disease AS source_disease\n",
    "                               FROM {silver_patient_dna_methylation_sample_table_name} AS target\n",
    "                               LEFT JOIN {silver_patient_dna_methylation_sample_view_name} AS source\n",
    "                                 ON target.disease = source.disease\n",
    "                                    AND target.patient_id = source.patient_id\n",
    "                                    AND target.origin = source.origin\n",
    "                                    AND target.condition = source.condition\n",
    "                                    AND target.sample_type = source.sample_type)\n",
    "                         WHERE ISNULL(source_disease)) AS source\n",
    "                  ON source.disease = target.disease\n",
    "                     AND source.patient_id = target.patient_id\n",
    "                     AND source.origin = target.origin \n",
    "                     AND source.condition = target.condition\n",
    "                     AND source.sample_type = target.sample_type\n",
    "                  WHEN MATCHED THEN                    \n",
    "                    DELETE \"\"\")\n",
    "                     \n",
    "    spark.catalog.dropTempView(silver_patient_dna_methylation_sample_view_name)"
   ]
  },
  {
   "cell_type": "code",
   "execution_count": null,
   "metadata": {},
   "outputs": [],
   "source": [
    "spark.stop()"
   ]
  }
 ],
 "metadata": {
  "language_info": {
   "name": "python"
  }
 },
 "nbformat": 4,
 "nbformat_minor": 2
}
