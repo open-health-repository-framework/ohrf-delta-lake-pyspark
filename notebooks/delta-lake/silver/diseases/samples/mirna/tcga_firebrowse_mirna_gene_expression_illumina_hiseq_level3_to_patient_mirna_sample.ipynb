{
 "cells": [
  {
   "cell_type": "code",
   "execution_count": null,
   "metadata": {},
   "outputs": [],
   "source": [
    "import os\n",
    "from pyspark.conf import SparkConf\n",
    "from pyspark.sql import SparkSession\n",
    "from pyspark.sql.functions import create_map, lit, col, explode, collect_list, array, struct, when, current_timestamp\n",
    "from pyspark.sql.types import IntegerType, FloatType\n",
    "from delta import *\n",
    "import re\n",
    "\n",
    "warehouse_diretory_path = '[YOUR_WAREHOUSE]'\n",
    "\n",
    "conf = SparkConf()\n",
    "conf.setAll(\n",
    "    [\n",
    "        ('spark.master', 'local[*]'), \n",
    "        ('spark.driver.host', 'localhost'),\n",
    "        ('spark.app.name', 'Transform TCGA Firebrowse miRNA Level 3 Sample To miRNA Patient Sample'),\n",
    "        ('spark.ui.showConsoleProgress', 'true'),\n",
    "        ('spark.sql.execution.arrow.pyspark.enabled', 'true'),\n",
    "        ('spark.driver.memory', '4g'),\n",
    "        ('spark.executor.memory', '4g'),        \n",
    "        ('spark.sql.extensions','io.delta.sql.DeltaSparkSessionExtension'),\n",
    "        ('spark.sql.catalog.spark_catalog', 'org.apache.spark.sql.delta.catalog.DeltaCatalog'),\n",
    "        ('spark.sql.warehouse.dir', warehouse_diretory_path),\n",
    "        ('spark.driver.extraJavaOptions', f'-Dderby.system.home={warehouse_diretory_path}')\n",
    "    ])\n",
    "\n",
    "spark = SparkSession.builder.config(conf=conf).enableHiveSupport().getOrCreate()"
   ]
  },
  {
   "cell_type": "code",
   "execution_count": null,
   "metadata": {},
   "outputs": [],
   "source": [
    "patient_id_pattern = re.compile(r'(.{12})', re.IGNORECASE)\n",
    "tcga_barcode_pattern = re.compile(r'(.{15})', re.IGNORECASE)\n",
    "\n",
    "condition_pattern = re.compile(r'.{13}(.{2}).*', re.IGNORECASE)\n",
    "condition_group_index = 1\n",
    "\n",
    "biological_database_name = 'biological_database'\n",
    "\n",
    "disease = 'Breast Invasive Carcinoma'\n",
    "\n",
    "bronze_tcga_mirna_sample_table_name = 'bronze_tcga_firebrowse_mirna_illumina_hiseq_level3_sample'\n",
    "\n",
    "silver_patient_mirna_sample_table_name = 'silver_patient_mirna_sample'\n",
    "silver_patient_mirna_sample_view_name = 'silver_patient_mirna_sample_view'\n",
    "\n",
    "tcga_sample_type_codes = {\n",
    "                            '01': 'Primary Solid Tumor', \n",
    "                            '02': 'Recurrent Solid Tumor',\n",
    "                            '03': 'Primary Blood Derived Cancer - Peripheral Blood',\n",
    "                            '04': 'Recurrent Blood Derived Cancer - Bone Marrow',\n",
    "                            '05': 'Additional - New Primary',\n",
    "                            '06': 'Metastatic', \n",
    "                            '07': 'Primary Blood Derived Cancer - Bone Marrow',\n",
    "                            '08': 'Human Tumor Original Cells',\n",
    "                            '09': 'Primary Blood Derived Cancer',\n",
    "                            '10': 'Blood Derived Normal', \n",
    "                            '11': 'Solid Tissue Normal',\n",
    "                            '12': 'Buccal Cell Normal',\n",
    "                            '13': 'EBV Immortalized Normal',\n",
    "                            '14': 'Bone Marrow Normal',\n",
    "                            '15': 'sample type',\n",
    "                            '16': 'sample type'\n",
    "                        }\n",
    "\n",
    "tcga_sample_type_control_codes = ['10', '11', '12', '13', '14', '15', '16']\n",
    "tcga_sample_type_case_codes = ['01', '02', '03', '04', '05', '06', '07', '08', '09']\n",
    "\n",
    "sample_types = create_map([lit(description) for code in tcga_sample_type_codes.items() for description in code])"
   ]
  },
  {
   "cell_type": "code",
   "execution_count": null,
   "metadata": {},
   "outputs": [],
   "source": [
    "spark.sql(f'USE {biological_database_name};')"
   ]
  },
  {
   "cell_type": "code",
   "execution_count": null,
   "metadata": {},
   "outputs": [],
   "source": [
    "silver_mirna_sample_df = spark.sql(f\"\"\"SELECT * FROM {bronze_tcga_mirna_sample_table_name} WHERE disease = '{disease}'\"\"\")\n",
    "silver_mirna_sample_df = silver_mirna_sample_df.drop('disease', 'timestamp')"
   ]
  },
  {
   "cell_type": "code",
   "execution_count": null,
   "metadata": {},
   "outputs": [],
   "source": [
    "mirna_id_column_name = list(filter(lambda c: 'TCGA' not in c, silver_mirna_sample_df.columns))[0]\n",
    "mirna_sample_columns = silver_mirna_sample_df.where(f\"{mirna_id_column_name} = 'miRNA_ID'\").first().asDict()"
   ]
  },
  {
   "cell_type": "code",
   "execution_count": null,
   "metadata": {},
   "outputs": [],
   "source": [
    "column_name = list(mirna_sample_columns.keys())[0]\n",
    "column_value = mirna_sample_columns[column_name]\n",
    "\n",
    "silver_mirna_sample_df = silver_mirna_sample_df.filter(~col(column_name).contains(column_value))"
   ]
  },
  {
   "cell_type": "code",
   "execution_count": null,
   "metadata": {},
   "outputs": [],
   "source": [
    "patient_ids = list(mirna_sample_columns.keys())[1:]\n",
    "\n",
    "columns = list(set(map(lambda x: tcga_barcode_pattern.search(x).group(), list(mirna_sample_columns.keys())[1:])))\n",
    "columns = [list(filter(lambda x: x.startswith(c), patient_ids)) for c in columns]"
   ]
  },
  {
   "cell_type": "code",
   "execution_count": null,
   "metadata": {},
   "outputs": [],
   "source": [
    "silver_mirna_sample_df = silver_mirna_sample_df.select(array([struct(col(mirna_id_column_name).alias('mirna_id'),\n",
    "                                                                     lit(patient_id_pattern.search(c[0]).group()).alias('patient_id'),\n",
    "                                                                     lit(condition_pattern.search(c[0]).group(condition_group_index)).alias('condition'),\n",
    "                                                                     col(c[0]).alias(mirna_sample_columns[c[0]]),\n",
    "                                                                     col(c[1]).alias(mirna_sample_columns[c[1]]),\n",
    "                                                                     col(c[2]).alias(mirna_sample_columns[c[2]])) for c in columns]).alias('levels')) \\\n",
    "                                                .select(explode('levels').alias('levels')) \\\n",
    "                                                .select('levels.*') \\\n",
    "                                                .selectExpr('patient_id', 'condition', 'mirna_id', 'CAST(read_count AS int) read_count', 'CAST(reads_per_million_miRNA_mapped AS double) reads_per_million') \\\n",
    "                                                .selectExpr('patient_id', 'condition', 'struct(mirna_id, read_count, reads_per_million) AS mirna_expression_levels') \\\n",
    "                                                .groupBy('patient_id', 'condition') \\\n",
    "                                                .agg(collect_list(col('mirna_expression_levels')).alias('mirna_expression_levels')) \\\n",
    "                                                .withColumn('sample_type', sample_types[col('condition')]) \\\n",
    "                                                .withColumn('condition', when(col('condition').isin(tcga_sample_type_control_codes), 'control')\n",
    "                                                                        .when(col('condition').isin(tcga_sample_type_case_codes), 'case')\n",
    "                                                                        .otherwise('')) \\\n",
    "                                                .withColumn('disease', lit(disease)) \\\n",
    "                                                .withColumn('timestamp', current_timestamp())\n",
    "                                               "
   ]
  },
  {
   "cell_type": "code",
   "execution_count": null,
   "metadata": {},
   "outputs": [],
   "source": [
    "if not [t.name for t in spark.catalog.listTables(biological_database_name) if t.name == silver_patient_mirna_sample_table_name] or \\\n",
    "   (any([t.name for t in spark.catalog.listTables(biological_database_name) if t.name == silver_patient_mirna_sample_table_name]) and\n",
    "    spark.sql(f\"SELECT disease FROM {silver_patient_mirna_sample_table_name} WHERE disease = '{disease}';\").count() == 0):  \n",
    "\n",
    "    silver_mirna_sample_df.write \\\n",
    "        .format('delta') \\\n",
    "        .mode('overwrite') \\\n",
    "        .option('overwriteSchema', 'true') \\\n",
    "        .option('partitionOverwriteMode', 'dynamic') \\\n",
    "        .partitionBy('disease', 'condition', 'sample_type') \\\n",
    "        .saveAsTable(silver_patient_mirna_sample_table_name)\n",
    "else:    \n",
    "    silver_mirna_sample_df.createOrReplaceTempView(silver_patient_mirna_sample_view_name)\n",
    "    \n",
    "    spark.sql(f\"\"\"MERGE INTO {silver_patient_mirna_sample_table_name} AS target\n",
    "                  USING {silver_patient_mirna_sample_view_name} AS source\n",
    "                  ON source.disease = target.disease\n",
    "                     AND source.patient_id = target.patient_id\n",
    "                     AND source.condition = target.condition \n",
    "                     AND source.sample_type = target.sample_type               \n",
    "                  WHEN MATCHED THEN \n",
    "                    UPDATE SET *\n",
    "                  WHEN NOT MATCHED THEN INSERT * \"\"\")\n",
    "\n",
    "    spark.sql(f\"\"\"MERGE INTO {silver_patient_mirna_sample_table_name} AS target\n",
    "                  USING (SELECT \n",
    "                           disease,\n",
    "                           patient_id,\n",
    "                           condition,\n",
    "                           sample_type\n",
    "                         FROM (SELECT \n",
    "                                 target.disease, \n",
    "                                 target.patient_id, \n",
    "                                 target.condition,\n",
    "                                 target.sample_type,                               \n",
    "                                 source.disease AS source_disease\n",
    "                               FROM {silver_patient_mirna_sample_table_name} AS target\n",
    "                               LEFT JOIN {silver_patient_mirna_sample_view_name} AS source\n",
    "                                 ON target.disease = source.disease\n",
    "                                    AND target.patient_id = source.patient_id\n",
    "                                    AND target.condition = source.condition\n",
    "                                    AND target.sample_type = source.sample_type)\n",
    "                         WHERE ISNULL(source_disease)) AS source\n",
    "                  ON source.disease = target.disease\n",
    "                     AND source.patient_id = target.patient_id\n",
    "                     AND source.condition = target.condition\n",
    "                     AND source.sample_type = target.sample_type\n",
    "                  WHEN MATCHED THEN                    \n",
    "                    DELETE \"\"\")\n",
    "                     \n",
    "    spark.catalog.dropTempView(silver_patient_mirna_sample_view_name)"
   ]
  },
  {
   "cell_type": "code",
   "execution_count": null,
   "metadata": {},
   "outputs": [],
   "source": [
    "spark.stop()"
   ]
  }
 ],
 "metadata": {
  "language_info": {
   "name": "python"
  }
 },
 "nbformat": 4,
 "nbformat_minor": 2
}
