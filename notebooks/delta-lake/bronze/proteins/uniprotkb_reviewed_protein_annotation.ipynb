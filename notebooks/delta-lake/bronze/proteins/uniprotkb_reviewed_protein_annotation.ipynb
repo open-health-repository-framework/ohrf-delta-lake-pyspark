{
 "cells": [
  {
   "cell_type": "code",
   "execution_count": null,
   "metadata": {},
   "outputs": [],
   "source": [
    "import os\n",
    "from pyspark.conf import SparkConf\n",
    "from pyspark.sql import SparkSession\n",
    "from delta import *\n",
    "import findspark\n",
    "\n",
    "findspark.init()\n",
    "\n",
    "warehouse_diretory_path = '[YOUR_WAREHOUSE]'\n",
    "uniprot_reviewed_protein_annotation_file = 'file:///[FILE_FULL_NAME:uniprot_sprot.xml]'\n",
    "biological_database_name = 'biological_database'\n",
    "uniprot_reviewed_protein_annotation_table_name = 'bronze_uniprotkb_reviewed_protein_annotation'\n",
    "\n",
    "conf = SparkConf()\n",
    "conf.setAll(\n",
    "    [\n",
    "        ('spark.master', 'local[*]'), \n",
    "        ('spark.driver.host', 'localhost'),\n",
    "        ('spark.app.name', 'UniprotKB Reviewed Protein Annotation Importer'),\n",
    "        ('spark.ui.showConsoleProgress', 'true'),\n",
    "        ('spark.sql.execution.arrow.pyspark.enabled', 'false'),\n",
    "        ('spark.storage.memoryFraction', '0.6'),\n",
    "        ('spark.sql.execution.arrow.pyspark.fallback.enabled', 'true'),\n",
    "        ('spark.dynamicAllocation.enabled', 'false'),\n",
    "        ('spark.sql.caseSensitive', 'true'),\n",
    "        ('spark.sql.adaptive.enabled', 'true'),\n",
    "        ('spark.sql.extensions','io.delta.sql.DeltaSparkSessionExtension'),\n",
    "        ('spark.sql.catalog.spark_catalog', 'org.apache.spark.sql.delta.catalog.DeltaCatalog'),\n",
    "        ('spark.sql.warehouse.dir', warehouse_diretory_path),\n",
    "        ('spark.driver.extraJavaOptions', f'-Dderby.system.home={warehouse_diretory_path}')\n",
    "    ])\n",
    "\n",
    "spark = SparkSession.builder.config(conf=conf).enableHiveSupport().getOrCreate()"
   ]
  },
  {
   "cell_type": "code",
   "execution_count": null,
   "metadata": {},
   "outputs": [],
   "source": [
    "uniprot_reviewed_protein_annotation_df = spark.read \\\n",
    "    .format('xml') \\\n",
    "    .options(rowTag='entry') \\\n",
    "    .load(uniprot_reviewed_protein_annotation_file) \\\n",
    "    .selectExpr('_created', '_dataset', '_modified', '_version', '_xmlns', 'accession', 'comment', 'evidence', 'feature', 'gene',\n",
    "                'geneLocation', 'keyword', 'name', 'organism', 'organismHost', 'protein', 'proteinExistence', 'reference', 'sequence',\n",
    "                \"\"\"CAST(dbReference AS array<struct<_VALUE:string,\n",
    "                                                    _evidence:string,\n",
    "                                                    _id:string,\n",
    "                                                    _type:string,\n",
    "                                                    molecule:struct<_VALUE:string,_id:string>,\n",
    "                                                    property:array<struct<_VALUE:string,_type:string,_val:string>>>>) dbReference\"\"\")"
   ]
  },
  {
   "cell_type": "code",
   "execution_count": null,
   "metadata": {},
   "outputs": [],
   "source": [
    "spark.sql(f'CREATE DATABASE IF NOT EXISTS {biological_database_name};')"
   ]
  },
  {
   "cell_type": "code",
   "execution_count": null,
   "metadata": {},
   "outputs": [],
   "source": [
    "spark.sql(f'USE {biological_database_name};')"
   ]
  },
  {
   "cell_type": "code",
   "execution_count": null,
   "metadata": {},
   "outputs": [],
   "source": [
    "uniprot_reviewed_protein_annotation_df.write \\\n",
    "    .format('delta') \\\n",
    "    .mode('overwrite') \\\n",
    "    .option('overwriteSchema', 'true') \\\n",
    "    .option('partitionOverwriteMode', 'dynamic') \\\n",
    "    .saveAsTable(uniprot_reviewed_protein_annotation_table_name)"
   ]
  },
  {
   "cell_type": "code",
   "execution_count": null,
   "metadata": {},
   "outputs": [],
   "source": [
    "spark.stop()"
   ]
  }
 ],
 "metadata": {
  "language_info": {
   "name": "python"
  }
 },
 "nbformat": 4,
 "nbformat_minor": 2
}
