{
 "cells": [
  {
   "cell_type": "code",
   "execution_count": null,
   "metadata": {},
   "outputs": [],
   "source": [
    "import os\n",
    "from pyspark.conf import SparkConf\n",
    "from pyspark.sql import SparkSession\n",
    "from pyspark.sql.functions import lit, col\n",
    "from delta import *\n",
    "import re\n",
    "import findspark\n",
    "\n",
    "findspark.init()\n",
    "\n",
    "warehouse_diretory_path = '[YOUR_WAREHOUSE]'\n",
    "\n",
    "conf = SparkConf()\n",
    "conf.setAll(\n",
    "    [\n",
    "        ('spark.master', 'local[*]'), \n",
    "        ('spark.driver.host', 'localhost'),\n",
    "        ('spark.app.name', 'TCGA Firebrowse DNA Methylation Illumina Human Methylation 450 Level 3 - Breast Cancer Sample Importer'),\n",
    "        ('spark.ui.showConsoleProgress', 'true'),\n",
    "        ('spark.sql.execution.arrow.pyspark.enabled', 'false'),                   \n",
    "        ('spark.sql.execution.arrow.pyspark.fallback.enabled', 'true'),\n",
    "        ('spark.dynamicAllocation.enabled', 'false'),\n",
    "        ('spark.sql.caseSensitive', 'true'),\n",
    "        ('spark.sql.adaptive.enabled', 'true'),\n",
    "        ('spark.memory.offHeap.enabled', 'true'),\n",
    "        ('spark.memory.offHeap.size', '5g'),  \n",
    "        ('spark.executor.memory', '30g'),\n",
    "        ('spark.driver.memory', '20g'),\n",
    "        ('spark.sql.extensions','io.delta.sql.DeltaSparkSessionExtension'),\n",
    "        ('spark.sql.catalog.spark_catalog', 'org.apache.spark.sql.delta.catalog.DeltaCatalog'),\n",
    "        ('spark.sql.warehouse.dir', warehouse_diretory_path),\n",
    "        ('spark.driver.extraJavaOptions', f'-Dderby.system.home={warehouse_diretory_path}')\n",
    "    ])\n",
    "\n",
    "spark = SparkSession.builder.config(conf=conf).enableHiveSupport().getOrCreate()"
   ]
  },
  {
   "cell_type": "code",
   "execution_count": null,
   "metadata": {},
   "outputs": [],
   "source": [
    "tcga_dna_methylation_sample_file = 'file:///[FILE_FULL_NAME:BRCA.methylation__humanmethylation450__jhu_usc_edu__Level_3__within_bioassay_data_set_function__data.data.txt]'\n",
    "\n",
    "disease = 'Breast Invasive Carcinoma'\n",
    "\n",
    "biological_database_name = 'biological_database'\n",
    "tcga_dna_methylation_sample_table_name = 'bronze_tcga_firebrowse_dna_methylation_illumina_human_methylation_450_level3_sample'"
   ]
  },
  {
   "cell_type": "code",
   "execution_count": null,
   "metadata": {},
   "outputs": [],
   "source": [
    "tcga_dna_methylation_sample_df = spark.read \\\n",
    "    .option('header', True) \\\n",
    "    .options(delimiter='\\t') \\\n",
    "    .csv(tcga_dna_methylation_sample_file)"
   ]
  },
  {
   "cell_type": "code",
   "execution_count": null,
   "metadata": {},
   "outputs": [],
   "source": [
    "tcga_dna_methylation_sample_df = tcga_dna_methylation_sample_df \\\n",
    "    .select([col(column).alias(re.sub('[^0-9a-zA-Z$]+', '_', column)) for column in tcga_dna_methylation_sample_df.columns]) \\\n",
    "    .withColumn('disease', lit(disease))"
   ]
  },
  {
   "cell_type": "code",
   "execution_count": null,
   "metadata": {},
   "outputs": [],
   "source": [
    "spark.sql(f'CREATE DATABASE IF NOT EXISTS {biological_database_name};')\n",
    "spark.sql(f'USE {biological_database_name};')"
   ]
  },
  {
   "cell_type": "code",
   "execution_count": null,
   "metadata": {},
   "outputs": [],
   "source": [
    "tcga_dna_methylation_sample_df.write \\\n",
    "    .format('delta') \\\n",
    "    .mode('overwrite') \\\n",
    "    .option('overwriteSchema', 'true') \\\n",
    "    .option('partitionOverwriteMode', 'dynamic') \\\n",
    "    .partitionBy('disease') \\\n",
    "    .saveAsTable(tcga_dna_methylation_sample_table_name)"
   ]
  },
  {
   "cell_type": "code",
   "execution_count": null,
   "metadata": {},
   "outputs": [],
   "source": [
    "spark.stop()"
   ]
  }
 ],
 "metadata": {
  "language_info": {
   "name": "python"
  }
 },
 "nbformat": 4,
 "nbformat_minor": 2
}
