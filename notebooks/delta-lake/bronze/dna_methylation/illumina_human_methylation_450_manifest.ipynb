{
 "cells": [
  {
   "cell_type": "code",
   "execution_count": null,
   "metadata": {},
   "outputs": [],
   "source": [
    "import os\n",
    "from pyspark.conf import SparkConf\n",
    "from pyspark.sql import SparkSession\n",
    "from pyspark.sql.functions import col\n",
    "from delta import *\n",
    "import re\n",
    "\n",
    "import findspark\n",
    "\n",
    "findspark.init()\n",
    "\n",
    "warehouse_diretory_path = '[YOUR_WAREHOUSE]'\n",
    "\n",
    "conf = SparkConf()\n",
    "conf.setAll(\n",
    "    [\n",
    "        ('spark.master', 'local[*]'), \n",
    "        ('spark.driver.host', 'localhost'),\n",
    "        ('spark.app.name', 'Illumina Human Methylation 450 Manifest Importer'),\n",
    "        ('spark.ui.showConsoleProgress', 'true'),\n",
    "        ('spark.sql.execution.arrow.pyspark.enabled', 'false'),                   \n",
    "        ('spark.sql.execution.arrow.pyspark.fallback.enabled', 'true'),\n",
    "        ('spark.dynamicAllocation.enabled', 'false'),\n",
    "        ('spark.sql.caseSensitive', 'true'),\n",
    "        ('spark.sql.adaptive.enabled', 'true'),\n",
    "        ('spark.sql.extensions','io.delta.sql.DeltaSparkSessionExtension'),\n",
    "        ('spark.sql.catalog.spark_catalog', 'org.apache.spark.sql.delta.catalog.DeltaCatalog'),\n",
    "        ('spark.sql.warehouse.dir', warehouse_diretory_path),\n",
    "        ('spark.driver.extraJavaOptions', f'-Dderby.system.home={warehouse_diretory_path}')\n",
    "    ])\n",
    "\n",
    "spark = SparkSession.builder.config(conf=conf).enableHiveSupport().getOrCreate()"
   ]
  },
  {
   "cell_type": "code",
   "execution_count": null,
   "metadata": {},
   "outputs": [],
   "source": [
    "human_methylation_manifest_file = 'file:///[FILE_FULL_NAME:humanmethylation450_15017482_v1-2.csv]'\n",
    "\n",
    "biological_database_name = 'biological_database'\n",
    "bronze_human_methylation_manifest_table_name = 'bronze_illumina_human_methylation_450_Manifest'"
   ]
  },
  {
   "cell_type": "code",
   "execution_count": null,
   "metadata": {},
   "outputs": [],
   "source": [
    "human_methylation_manifest_df = spark.read \\\n",
    "    .option('header', True) \\\n",
    "    .options(delimiter=',') \\\n",
    "    .csv(human_methylation_manifest_file)\n",
    "\n",
    "human_methylation_manifest_df = human_methylation_manifest_df \\\n",
    "    .select([col(f'`{column}`' if '.' in column else column).alias(re.sub('[^0-9a-zA-Z]+', '', column)) for column in human_methylation_manifest_df.columns])"
   ]
  },
  {
   "cell_type": "code",
   "execution_count": null,
   "metadata": {},
   "outputs": [],
   "source": [
    "spark.sql(f'CREATE DATABASE IF NOT EXISTS {biological_database_name};')\n",
    "spark.sql(f'USE {biological_database_name};')"
   ]
  },
  {
   "cell_type": "code",
   "execution_count": null,
   "metadata": {},
   "outputs": [],
   "source": [
    "human_methylation_manifest_df.write \\\n",
    "    .format('delta') \\\n",
    "    .mode('overwrite') \\\n",
    "    .option('overwriteSchema', 'true') \\\n",
    "    .option('partitionOverwriteMode', 'dynamic') \\\n",
    "    .saveAsTable(bronze_human_methylation_manifest_table_name)"
   ]
  },
  {
   "cell_type": "code",
   "execution_count": null,
   "metadata": {},
   "outputs": [],
   "source": [
    "spark.stop()"
   ]
  }
 ],
 "metadata": {
  "language_info": {
   "name": "python"
  }
 },
 "nbformat": 4,
 "nbformat_minor": 2
}
