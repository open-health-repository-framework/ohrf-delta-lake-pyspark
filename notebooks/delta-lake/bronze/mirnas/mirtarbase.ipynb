{
 "cells": [
  {
   "cell_type": "code",
   "execution_count": null,
   "metadata": {},
   "outputs": [],
   "source": [
    "import os\n",
    "from pyspark.conf import SparkConf\n",
    "from pyspark.sql import SparkSession\n",
    "from pyspark.sql.functions import regexp_extract, col\n",
    "from delta import *\n",
    "\n",
    "warehouse_diretory_path = '[YOUR_WAREHOUSE]'\n",
    "mirtarbase_mirna_target_gene_file = 'file:///[FILE_FULL_NAME:hsa_mti.csv]'\n",
    "biological_database_name = 'biological_database'\n",
    "mirtarbase_mirna_target_gene_table_name = 'bronze_mirtarbase_mirna_target_gene_interaction'\n",
    "\n",
    "conf = SparkConf()\n",
    "conf.setAll(\n",
    "    [\n",
    "        ('spark.master', 'local[*]'), \n",
    "        ('spark.driver.host', 'localhost'),\n",
    "        ('spark.app.name', 'miRTarBase mirna Target Gene Interaction Importer'),\n",
    "        ('spark.ui.showConsoleProgress', 'true'),\n",
    "        ('spark.sql.execution.arrow.pyspark.enabled', 'true'),       \n",
    "        ('spark.sql.extensions','io.delta.sql.DeltaSparkSessionExtension'),\n",
    "        ('spark.sql.catalog.spark_catalog', 'org.apache.spark.sql.delta.catalog.DeltaCatalog'),\n",
    "        ('spark.sql.warehouse.dir', warehouse_diretory_path),\n",
    "        ('spark.driver.extraJavaOptions', f'-Dderby.system.home={warehouse_diretory_path}')\n",
    "    ])\n",
    "\n",
    "spark = SparkSession.builder.config(conf=conf).enableHiveSupport().getOrCreate()"
   ]
  },
  {
   "cell_type": "code",
   "execution_count": null,
   "metadata": {},
   "outputs": [],
   "source": [
    "mirna_target_gene_interaction_df = spark.read \\\n",
    "    .option('header', True) \\\n",
    "    .options(delimiter=';') \\\n",
    "    .csv(mirtarbase_mirna_target_gene_file) \\\n",
    "    .selectExpr(\"`miRTarBase ID` AS miRTarBase_ID\", 'miRNA', \"`Species (miRNA)` AS Species_miRNA\", \n",
    "                \"`Target Gene` AS Target_Gene\", \"`Target Gene (Entrez ID)` AS Target_Gene_Entrez_Gene_ID\", \n",
    "                \"`Species (Target Gene)` AS Species_Target_Gene\", 'Experiments', \n",
    "                \"`Support Type` AS Support_Type\", \"`References (PMID)` AS References_PMID\")"
   ]
  },
  {
   "cell_type": "code",
   "execution_count": null,
   "metadata": {},
   "outputs": [],
   "source": [
    "spark.sql(f'CREATE DATABASE IF NOT EXISTS {biological_database_name};')"
   ]
  },
  {
   "cell_type": "code",
   "execution_count": null,
   "metadata": {},
   "outputs": [],
   "source": [
    "spark.sql(f'USE {biological_database_name};')"
   ]
  },
  {
   "cell_type": "code",
   "execution_count": null,
   "metadata": {},
   "outputs": [],
   "source": [
    "mirna_target_gene_interaction_df.write \\\n",
    "    .format('delta') \\\n",
    "    .mode('overwrite') \\\n",
    "    .option('overwriteSchema', 'true') \\\n",
    "    .option('partitionOverwriteMode', 'dynamic') \\\n",
    "    .saveAsTable(mirtarbase_mirna_target_gene_table_name)"
   ]
  },
  {
   "cell_type": "code",
   "execution_count": null,
   "metadata": {},
   "outputs": [],
   "source": [
    "spark.stop()"
   ]
  }
 ],
 "metadata": {
  "language_info": {
   "name": "python"
  }
 },
 "nbformat": 4,
 "nbformat_minor": 2
}
